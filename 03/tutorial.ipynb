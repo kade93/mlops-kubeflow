{
 "cells": [
  {
   "cell_type": "code",
   "execution_count": 2,
   "id": "efe05ee5-7fa2-4d85-b2c7-48b2509a2df0",
   "metadata": {},
   "outputs": [
    {
     "name": "stdout",
     "output_type": "stream",
     "text": [
      "파이썬 코드\n"
     ]
    }
   ],
   "source": [
    "print(\"파이썬 코드\")"
   ]
  },
  {
   "cell_type": "markdown",
   "id": "344799c3-c5dc-466b-87a2-450237fa3a00",
   "metadata": {},
   "source": [
    "## 마크다운"
   ]
  },
  {
   "cell_type": "raw",
   "id": "482311ba-c122-48f6-8543-286635fbfcce",
   "metadata": {},
   "source": [
    "일반 텍스트"
   ]
  },
  {
   "cell_type": "code",
   "execution_count": null,
   "id": "29afef1a-9e46-4475-9272-be0758b94396",
   "metadata": {},
   "outputs": [],
   "source": []
  }
 ],
 "metadata": {
  "kernelspec": {
   "display_name": "Python 3",
   "language": "python",
   "name": "python3"
  },
  "language_info": {
   "codemirror_mode": {
    "name": "ipython",
    "version": 3
   },
   "file_extension": ".py",
   "mimetype": "text/x-python",
   "name": "python",
   "nbconvert_exporter": "python",
   "pygments_lexer": "ipython3",
   "version": "3.6.9"
  }
 },
 "nbformat": 4,
 "nbformat_minor": 5
}
