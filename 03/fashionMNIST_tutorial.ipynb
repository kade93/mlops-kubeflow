{
 "cells": [
  {
   "cell_type": "markdown",
   "id": "64d8523c-8d78-422e-b6f4-6a39181f2b1e",
   "metadata": {},
   "source": [
    "# 1. 목표\n",
    "- Fashion MNIST dataset으로 Multi-Layer Perceptron (MLP) 모델 개발 / 학습 해보기\n",
    "- TensorBoard로 학습된 모델 평가하기"
   ]
  },
  {
   "cell_type": "markdown",
   "id": "e1bcd09d-e0ee-45f0-82c9-d8c367d8efbd",
   "metadata": {},
   "source": [
    "# 2. MLP 모델 개발 및 학습\n",
    "https://tutorials.pytorch.kr/beginner/basics/quickstart_tutorial.html"
   ]
  },
  {
   "cell_type": "markdown",
   "id": "dcfe4663-ee74-4e52-9aea-814aff9b527e",
   "metadata": {},
   "source": [
    "## 2.1 시작하기\n",
    "- 수치계산을 위한 numpy, 그래프를 그리기 위한 matplotlib와 함께 PyTorch사용한 모델 개발에 필요한 모듈을 import합니다."
   ]
  },
  {
   "cell_type": "code",
   "execution_count": 1,
   "id": "ec39f8b5-68d7-4aab-b50c-6192657e7f35",
   "metadata": {},
   "outputs": [],
   "source": [
    "import numpy as np\n",
    "import matplotlib.pyplot as plt\n",
    "\n",
    "import torch\n",
    "from torchvision import transforms, datasets\n",
    "from torch.utils.data import DataLoader\n",
    "\n",
    "from torch import nn\n",
    "import torch.nn.functional as F"
   ]
  },
  {
   "cell_type": "markdown",
   "id": "c317d913-7997-45df-9cff-59209fb4ef8e",
   "metadata": {},
   "source": [
    "- 학습에 사용할 장비가 CPU인지 GPU (cuda)인지 확인합니다."
   ]
  },
  {
   "cell_type": "code",
   "execution_count": 2,
   "id": "1a04a6ec-e57d-4c40-a1d0-bec2a66351c9",
   "metadata": {},
   "outputs": [
    {
     "name": "stdout",
     "output_type": "stream",
     "text": [
      "Using cuda device\n"
     ]
    }
   ],
   "source": [
    "device = \"cuda\" if torch.cuda.is_available() else \"cpu\"\n",
    "print(\"Using {} device\".format(device))"
   ]
  },
  {
   "cell_type": "markdown",
   "id": "c04a120b-86ed-4ff5-a736-42b2a98d96e5",
   "metadata": {},
   "source": [
    "## 2.2 Dataset 준비하기"
   ]
  },
  {
   "cell_type": "markdown",
   "id": "c51f110e-1ece-4efe-af32-c6126adb307c",
   "metadata": {},
   "source": [
    "- torchvision.datasets에 연구용으로 자주 사용하는 데이터를 쉽게 불러올 수 있도록 제공하고 있습니다."
   ]
  },
  {
   "cell_type": "code",
   "execution_count": 3,
   "id": "91541b46-885c-45bf-bf5a-0360863d9c26",
   "metadata": {},
   "outputs": [],
   "source": [
    "train_data = datasets.FashionMNIST(\n",
    "    root=\"/home/jovyan/PyTorch_tutorials/data\",\n",
    "    train=True,\n",
    "    download=True,\n",
    "    transform=transforms.ToTensor(),\n",
    ")\n",
    "\n",
    "test_data = datasets.FashionMNIST(\n",
    "    root=\"/home/jovyan/PyTorch_tutorials/data\",\n",
    "    train=False,\n",
    "    download=True,\n",
    "    transform=transforms.ToTensor(),\n",
    ")"
   ]
  },
  {
   "cell_type": "markdown",
   "id": "674fb7cf-79f9-4743-9470-0fdfe4120ba4",
   "metadata": {},
   "source": [
    "- Datasets를 DataLoader를 통해 batch 단위로 iterable한 객체로 분리합니다."
   ]
  },
  {
   "cell_type": "code",
   "execution_count": 4,
   "id": "df636d35-b877-4398-b555-051fe82956d2",
   "metadata": {},
   "outputs": [
    {
     "name": "stdout",
     "output_type": "stream",
     "text": [
      "Shape of X [N, C, H, W]:  torch.Size([32, 1, 28, 28])\n",
      "Shape of y:  torch.Size([32]) torch.int64\n"
     ]
    }
   ],
   "source": [
    "batch_size = 32\n",
    "train_dataloader = DataLoader(train_data, batch_size=batch_size, shuffle=True)\n",
    "test_dataloader = DataLoader(test_data, batch_size=batch_size)\n",
    "\n",
    "for (x_train, y_train) in train_dataloader:\n",
    "    print(\"Shape of X [N, C, H, W]: \", x_train.shape)\n",
    "    print(\"Shape of y: \", y_train.shape, y_train.dtype)\n",
    "    break"
   ]
  },
  {
   "cell_type": "markdown",
   "id": "1c877734-2aa8-4c6a-a669-6728b58be7f9",
   "metadata": {},
   "source": [
    "- 데이터의 실제 모습을 matplotlib로 시각화 해봅니다."
   ]
  },
  {
   "cell_type": "code",
   "execution_count": 5,
   "id": "a5ec0e6e-d9a1-4524-b846-79c397e40401",
   "metadata": {},
   "outputs": [
    {
     "data": {
      "image/png": "[encoded data removed]",
      "text/plain": [
       "<Figure size 720x72 with 10 Axes>"
      ]
     },
     "metadata": {
      "needs_background": "light"
     },
     "output_type": "display_data"
    }
   ],
   "source": [
    "plt.figure(figsize=(10, 1))\n",
    "for i in range(10):\n",
    "    plt.subplot(1, 10, i + 1)\n",
    "    plt.imshow(x_train[i, :, :, :].numpy().reshape(28, 28), cmap = \"gray_r\")\n",
    "    plt.title(\"class: \" + str(y_train[i].item()))\n",
    "    plt.axis(\"off\")"
   ]
  },
  {
   "cell_type": "markdown",
   "id": "53dd5648-0376-434d-890e-37d63fc28438",
   "metadata": {},
   "source": [
    "## 2.4 MLP 모델 구성하기"
   ]
  },
  {
   "cell_type": "code",
   "execution_count": 6,
   "id": "952df965-e542-48c0-89e6-bc2b3f1763c3",
   "metadata": {},
   "outputs": [
    {
     "name": "stdout",
     "output_type": "stream",
     "text": [
      "NeuralNetwork(\n",
      "  (flatten): Flatten(start_dim=1, end_dim=-1)\n",
      "  (linear_relu_stack): Sequential(\n",
      "    (0): Linear(in_features=784, out_features=512, bias=True)\n",
      "    (1): ReLU()\n",
      "    (2): Linear(in_features=512, out_features=512, bias=True)\n",
      "    (3): ReLU()\n",
      "    (4): Linear(in_features=512, out_features=10, bias=True)\n",
      "    (5): ReLU()\n",
      "  )\n",
      ")\n"
     ]
    }
   ],
   "source": [
    "class NeuralNetwork(nn.Module):\n",
    "    \n",
    "    def __init__(self):\n",
    "        super(NeuralNetwork, self).__init__()\n",
    "        \n",
    "        self.flatten = nn.Flatten()\n",
    "        self.linear_relu_stack = nn.Sequential(\n",
    "            nn.Linear(28*28, 512),\n",
    "            nn.ReLU(),\n",
    "            nn.Linear(512, 512),\n",
    "            nn.ReLU(),\n",
    "            nn.Linear(512, 10),\n",
    "            nn.ReLU()\n",
    "        )\n",
    "\n",
    "    def forward(self, x):\n",
    "        x = self.flatten(x)\n",
    "        logits = self.linear_relu_stack(x)\n",
    "#         output = F.log_softmax(logits, dim=1)\n",
    "        return logits\n",
    "\n",
    "model = NeuralNetwork().to(device)\n",
    "print(model)"
   ]
  },
  {
   "cell_type": "markdown",
   "id": "37d496c3-cadf-4386-a6d1-27348a593659",
   "metadata": {},
   "source": [
    "## 2.6 모델 매개변수 설정하기"
   ]
  },
  {
   "cell_type": "code",
   "execution_count": 7,
   "id": "9385e9b8-48b4-4f98-821e-963af04bb940",
   "metadata": {},
   "outputs": [],
   "source": [
    "loss_fn = nn.CrossEntropyLoss()\n",
    "optimizer = torch.optim.SGD(model.parameters(), lr=1e-3)"
   ]
  },
  {
   "cell_type": "markdown",
   "id": "6a3fad2b-2b7e-4b6c-b2de-a43732b4c4a1",
   "metadata": {},
   "source": [
    "## 2.7 학습 구성하기"
   ]
  },
  {
   "cell_type": "code",
   "execution_count": 8,
   "id": "ac9608d8-f758-437c-9327-4a47afa201de",
   "metadata": {},
   "outputs": [],
   "source": [
    "def train(dataloader, model, loss_fn, optimizer):\n",
    "    size = len(dataloader.dataset)\n",
    "    for batch, (X, y) in enumerate(dataloader):\n",
    "        X, y = X.to(device), y.to(device)\n",
    "\n",
    "        # 예측 오류 계산\n",
    "        pred = model(X)\n",
    "        loss = loss_fn(pred, y)\n",
    "\n",
    "        # 역전파\n",
    "        optimizer.zero_grad()\n",
    "        loss.backward()\n",
    "        optimizer.step()\n",
    "\n",
    "        if batch % 500 == 0:\n",
    "            loss, current = loss.item(), batch * len(X)\n",
    "            print(f\"loss: {loss:>7f}  [{current:>5d}/{size:>5d}]\")"
   ]
  },
  {
   "cell_type": "markdown",
   "id": "23804e0b-2a77-471d-a614-ca5465584abb",
   "metadata": {},
   "source": [
    "## 2.8 학습 모델 성능 확인하기"
   ]
  },
  {
   "cell_type": "code",
   "execution_count": 9,
   "id": "161a84c6-5ed8-4439-b7cb-c9a305a7e635",
   "metadata": {},
   "outputs": [],
   "source": [
    "def test(dataloader, model, loss_fn):\n",
    "    size = len(dataloader.dataset)\n",
    "    num_batches = len(dataloader)\n",
    "    model.eval()\n",
    "    test_loss, correct = 0, 0\n",
    "    with torch.no_grad():\n",
    "        for X, y in dataloader:\n",
    "            X, y = X.to(device), y.to(device)\n",
    "            pred = model(X)\n",
    "            test_loss += loss_fn(pred, y).item()\n",
    "            correct += (pred.argmax(1) == y).type(torch.float).sum().item()\n",
    "    test_loss /= num_batches\n",
    "    correct /= size\n",
    "    print(f\"Test Error: \\n Accuracy: {(100*correct):>0.1f}%, Avg loss: {test_loss:>8f} \\n\")"
   ]
  },
  {
   "cell_type": "markdown",
   "id": "3fdad7a9-819f-4358-add1-d2e70ad750e8",
   "metadata": {},
   "source": [
    "## 2.9 학습 진행하기"
   ]
  },
  {
   "cell_type": "code",
   "execution_count": 10,
   "id": "2e9e91c3-93a7-4540-9d3a-d886061401b9",
   "metadata": {},
   "outputs": [
    {
     "name": "stdout",
     "output_type": "stream",
     "text": [
      "Epoch 1\n",
      "-------------------------------\n",
      "loss: 2.307078  [    0/60000]\n",
      "loss: 2.268754  [16000/60000]\n",
      "loss: 2.266583  [32000/60000]\n",
      "loss: 2.216954  [48000/60000]\n",
      "Test Error: \n",
      " Accuracy: 38.7%, Avg loss: 2.137278 \n",
      "\n",
      "Epoch 2\n",
      "-------------------------------\n",
      "loss: 2.134766  [    0/60000]\n",
      "loss: 2.147489  [16000/60000]\n",
      "loss: 1.978150  [32000/60000]\n",
      "loss: 2.023457  [48000/60000]\n",
      "Test Error: \n",
      " Accuracy: 42.2%, Avg loss: 1.851241 \n",
      "\n",
      "Epoch 3\n",
      "-------------------------------\n",
      "loss: 1.923203  [    0/60000]\n",
      "loss: 1.757016  [16000/60000]\n",
      "loss: 1.830548  [32000/60000]\n",
      "loss: 2.013288  [48000/60000]\n",
      "Test Error: \n",
      " Accuracy: 43.4%, Avg loss: 1.657914 \n",
      "\n",
      "Epoch 4\n",
      "-------------------------------\n",
      "loss: 1.804900  [    0/60000]\n",
      "loss: 1.522591  [16000/60000]\n",
      "loss: 1.675610  [32000/60000]\n",
      "loss: 1.548386  [48000/60000]\n",
      "Test Error: \n",
      " Accuracy: 44.5%, Avg loss: 1.555537 \n",
      "\n",
      "Epoch 5\n",
      "-------------------------------\n",
      "loss: 1.486911  [    0/60000]\n",
      "loss: 1.512255  [16000/60000]\n",
      "loss: 1.159905  [32000/60000]\n",
      "loss: 1.510058  [48000/60000]\n",
      "Test Error: \n",
      " Accuracy: 46.0%, Avg loss: 1.494161 \n",
      "\n",
      "Done!\n"
     ]
    }
   ],
   "source": [
    "epochs = 5\n",
    "for t in range(epochs):\n",
    "    print(f\"Epoch {t+1}\\n-------------------------------\")\n",
    "    train(train_dataloader, model, loss_fn, optimizer)\n",
    "    test(test_dataloader, model, loss_fn)\n",
    "print(\"Done!\")"
   ]
  },
  {
   "cell_type": "markdown",
   "id": "485cf2d8-247a-4abd-9ff6-4f527619d611",
   "metadata": {},
   "source": [
    "# 3. TensorBoard로 학습된 모델 평가하기\n",
    "\n",
    "\n",
    "https://tutorials.pytorch.kr/intermediate/tensorboard_tutorial.html"
   ]
  },
  {
   "cell_type": "code",
   "execution_count": null,
   "id": "c43eae39-1094-46a5-99c4-2bf24160a100",
   "metadata": {},
   "outputs": [],
   "source": []
  }
 ],
 "metadata": {
  "kernelspec": {
   "display_name": "Python 3",
   "language": "python",
   "name": "python3"
  },
  "language_info": {
   "codemirror_mode": {
    "name": "ipython",
    "version": 3
   },
   "file_extension": ".py",
   "mimetype": "text/x-python",
   "name": "python",
   "nbconvert_exporter": "python",
   "pygments_lexer": "ipython3",
   "version": "3.6.9"
  }
 },
 "nbformat": 4,
 "nbformat_minor": 5
}
