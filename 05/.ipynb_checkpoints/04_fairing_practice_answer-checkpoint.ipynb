{
 "cells": [
  {
   "cell_type": "code",
   "execution_count": 4,
   "id": "e32a3813-f774-4a43-9d4d-4c46fe454661",
   "metadata": {},
   "outputs": [],
   "source": [
    "import os\n",
    "from kubeflow import fairing"
   ]
  },
  {
   "cell_type": "code",
   "execution_count": 5,
   "id": "5ef6001a-69d7-455a-96b3-50c84a00d37f",
   "metadata": {},
   "outputs": [],
   "source": [
    "def print_by_env():\n",
    "    if os.getenv('FAIRING_RUNTIME', None) is None:\n",
    "        print(\"In NB\")\n",
    "    else:\n",
    "        print(\"In Cluster\") "
   ]
  },
  {
   "cell_type": "code",
   "execution_count": 6,
   "id": "07252f85-ce57-4a03-8b05-4172985dec56",
   "metadata": {},
   "outputs": [],
   "source": [
    "DOCKER_REGISTRY = 'www.dolearn.io:30003/kade-kubeflow' # harbor 레지스트리 주소\n",
    "fairing.config.set_builder(\n",
    "    'append',\n",
    "    image_name='fairing-job',\n",
    "    registry=DOCKER_REGISTRY,\n",
    "    base_image='www.dolearn.io:30003/base/fairing-base:0.0.2') # fairing base 이미지\n",
    "\n",
    "fairing.config.set_deployer('job',\n",
    "                            cleanup=False) # job 실행 완료 후 삭제할지 여부를 결정"
   ]
  },
  {
   "cell_type": "code",
   "execution_count": 7,
   "id": "a20483a5-7ffa-433a-9617-f8a6b1931c4c",
   "metadata": {},
   "outputs": [
    {
     "name": "stderr",
     "output_type": "stream",
     "text": [
      "[I 211119 07:07:47 config:134] Using preprocessor: <kubeflow.fairing.preprocessors.function.FunctionPreProcessor object at 0x7f3ce76e7048>\n",
      "[I 211119 07:07:47 config:136] Using builder: <kubeflow.fairing.builders.append.append.AppendBuilder object at 0x7f3d28ced668>\n",
      "[I 211119 07:07:47 config:138] Using deployer: <kubeflow.fairing.deployers.job.job.Job object at 0x7f3cfab86c50>\n",
      "[W 211119 07:07:47 append:52] Building image using Append builder...\n",
      "[I 211119 07:07:47 base:112] Creating docker context: /tmp/fairing_context_hbloite8\n",
      "[W 211119 07:07:47 base:99] /usr/local/lib/python3.6/dist-packages/kubeflow/fairing/__init__.py already exists in Fairing context, skipping...\n",
      "[I 211119 07:07:47 docker_creds_:234] Loading Docker credentials for repository 'www.dolearn.io:30003/base/fairing-base:0.0.2'\n"
     ]
    },
    {
     "name": "stdout",
     "output_type": "stream",
     "text": [
      "In NB\n",
      "==========================================================\n",
      "Image name :  www.dolearn.io:30003/kade-kubeflow/fairing-job:97282FB8\n",
      "==========================================================\n"
     ]
    },
    {
     "name": "stderr",
     "output_type": "stream",
     "text": [
      "[W 211119 07:07:48 append:56] Image successfully built in 0.6269351100017957s.\n",
      "[W 211119 07:07:48 append:98] Pushing image www.dolearn.io:30003/kade-kubeflow/fairing-job:97282FB8...\n",
      "[I 211119 07:07:48 docker_creds_:234] Loading Docker credentials for repository 'www.dolearn.io:30003/kade-kubeflow/fairing-job:97282FB8'\n",
      "[W 211119 07:07:48 append:85] Uploading www.dolearn.io:30003/kade-kubeflow/fairing-job:97282FB8\n",
      "[I 211119 07:07:48 docker_session_:280] Layer sha256:063a4ff324e290814ea5bf23d5f8de5cca1a734782c4a187132ab3364b44a985 exists, skipping\n"
     ]
    },
    {
     "name": "stdout",
     "output_type": "stream",
     "text": [
      "==========================================================\n",
      "Image name :  www.dolearn.io:30003/kade-kubeflow/fairing-job:97282FB8\n",
      "==========================================================\n"
     ]
    },
    {
     "name": "stderr",
     "output_type": "stream",
     "text": [
      "[I 211119 07:07:48 docker_session_:280] Layer sha256:29d136a889d232058c476b5637c18cbfca74c586634cbee07fe71fa540c7b211 exists, skipping\n",
      "[I 211119 07:07:48 docker_session_:280] Layer sha256:7a12503ba844465b2c5aea7ebf60dd5057c7fcece51ea15e5f7f02ed1ae08d12 exists, skipping\n",
      "[I 211119 07:07:48 docker_session_:280] Layer sha256:f22ccc0b8772d8e1bcb40f137b373686bc27427a70c0e41dd22b38016e09e7e0 exists, skipping\n",
      "[I 211119 07:07:48 docker_session_:280] Layer sha256:3caed8c8884bf3a0cd5255f42fec14c219153bcdf294c81cb2e0599298c8a8df exists, skipping\n",
      "[I 211119 07:07:48 docker_session_:280] Layer sha256:641afa4edc436e3fd3efd40433f1ad0c55b48af949680cd2359de51e3c439699 exists, skipping\n",
      "[I 211119 07:07:49 docker_session_:280] Layer sha256:0269b6883f78a00bb29875d37fe3d838dbbe61cadf0108145fff2be316364f74 exists, skipping\n",
      "[I 211119 07:07:49 docker_session_:280] Layer sha256:7ada0795a7988a0d48120cfe85bc57dba3bdd225474db83b4e5565b4af8dd0a9 exists, skipping\n",
      "[I 211119 07:07:49 docker_session_:280] Layer sha256:a4dd3c805ec24b016ac8a3869add24541829736c312b65bd49d3b2af7501f897 exists, skipping\n",
      "[I 211119 07:07:49 docker_session_:280] Layer sha256:f571d568b0961b0954a50f361ad842acab3b6e4b21a27430e172a1f0d5aca5db exists, skipping\n",
      "[I 211119 07:07:49 docker_session_:280] Layer sha256:40c455d0dacc33a87519926f4749deef90e15bca99118d8bf7d8cf78588f7f9b exists, skipping\n",
      "[I 211119 07:07:49 docker_session_:280] Layer sha256:9151e6e2942f84adfd723f3117577c80e9bd90fab642b2190a5e501fe01f534a exists, skipping\n",
      "[I 211119 07:07:49 docker_session_:280] Layer sha256:191b6069f9932358899ffcc3f45c41a0f5f2731b948236a6553484caaf989794 exists, skipping\n",
      "[I 211119 07:07:49 docker_session_:280] Layer sha256:02842a89d653002ea6c32f5573a9cec312ace226dae5eea21bc68782f4e2f627 exists, skipping\n",
      "[I 211119 07:07:49 docker_session_:280] Layer sha256:208b1b1d503e89fb2452c622d99f8a69b643819c098688dd89a4bce51d843f7d exists, skipping\n",
      "[I 211119 07:07:49 docker_session_:280] Layer sha256:f5098a9bf4490bccac9085b1bf9c54baf3015333c40fb6685889a9785b7388ee exists, skipping\n",
      "[I 211119 07:07:49 docker_session_:280] Layer sha256:4bf23ae646f0b9d8e07bf427c69c82f208bb57a8b297507d9b8b6fa23b725711 exists, skipping\n",
      "[I 211119 07:07:49 docker_session_:280] Layer sha256:e1b8f4d5dcdfb4ac873d37d3a643cba6a55f2b325cfe0115aaba32946e896e0a exists, skipping\n",
      "[I 211119 07:07:49 docker_session_:284] Layer sha256:ca9b2452454178c32a0bce9e2625e22604821a433a0d9f3fb297d748e3ab0151 pushed.\n",
      "[I 211119 07:07:49 docker_session_:284] Layer sha256:1ee34e908a6f2ec6ff589f0bbc42b0c99736670e30ff9629a29ed1699a0d0ea5 pushed.\n",
      "[I 211119 07:07:49 docker_session_:280] Layer sha256:3cf8fb62ba5ffb221a2edb2208741346eb4d2d99a174138e4afbb69ce1fd9966 exists, skipping\n",
      "[I 211119 07:07:49 docker_session_:280] Layer sha256:e80c964ece6a3edf0db1cfc72ae0e6f0699fb776bbfcc92b708fbb945b0b9547 exists, skipping\n",
      "[I 211119 07:07:49 docker_session_:280] Layer sha256:8bcf82863cb9582a24dc32cd3ddf560ff2f84df88694be072758159b94b70bd3 exists, skipping\n",
      "[I 211119 07:07:50 docker_session_:334] Finished upload of: www.dolearn.io:30003/kade-kubeflow/fairing-job:97282FB8\n",
      "[W 211119 07:07:50 append:103] Pushed image www.dolearn.io:30003/kade-kubeflow/fairing-job:97282FB8 in 1.5707436970005801s.\n",
      "[W 211119 07:07:50 job:101] The job fairing-job-kb5zc launched.\n",
      "[W 211119 07:07:50 manager:298] Waiting for fairing-job-kb5zc-26frm to start...\n",
      "[W 211119 07:07:50 manager:298] Waiting for fairing-job-kb5zc-26frm to start...\n"
     ]
    },
    {
     "name": "stdout",
     "output_type": "stream",
     "text": [
      "===================================\n",
      "Building image www.dolearn.io:30003/kade-kubeflow/fairing-job:97282FB8 done.\n",
      "===================================\n"
     ]
    },
    {
     "name": "stderr",
     "output_type": "stream",
     "text": [
      "[W 211119 07:07:50 manager:298] Waiting for fairing-job-kb5zc-26frm to start...\n",
      "[W 211119 07:07:51 manager:298] Waiting for fairing-job-kb5zc-26frm to start...\n",
      "[I 211119 07:07:52 manager:304] Pod started running False\n"
     ]
    },
    {
     "name": "stdout",
     "output_type": "stream",
     "text": [
      "In Cluster\n"
     ]
    }
   ],
   "source": [
    "if __name__ == '__main__':\n",
    "    print_by_env()\n",
    "    fairing_run = fairing.config.fn(print_by_env)\n",
    "    fairing_run()"
   ]
  },
  {
   "cell_type": "code",
   "execution_count": null,
   "id": "9ba3b329-3b04-49b0-938f-c7dc2973f6cc",
   "metadata": {},
   "outputs": [],
   "source": []
  }
 ],
 "metadata": {
  "kernelspec": {
   "display_name": "Python 3",
   "language": "python",
   "name": "python3"
  },
  "language_info": {
   "codemirror_mode": {
    "name": "ipython",
    "version": 3
   },
   "file_extension": ".py",
   "mimetype": "text/x-python",
   "name": "python",
   "nbconvert_exporter": "python",
   "pygments_lexer": "ipython3",
   "version": "3.6.9"
  }
 },
 "nbformat": 4,
 "nbformat_minor": 5
}
