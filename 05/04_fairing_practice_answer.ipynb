{
 "cells": [
  {
   "cell_type": "code",
   "execution_count": null,
   "id": "e32a3813-f774-4a43-9d4d-4c46fe454661",
   "metadata": {},
   "outputs": [],
   "source": [
    "import os\n",
    "from kubeflow import fairing"
   ]
  },
  {
   "cell_type": "code",
   "execution_count": null,
   "id": "5ef6001a-69d7-455a-96b3-50c84a00d37f",
   "metadata": {},
   "outputs": [],
   "source": [
    "def print_by_env():\n",
    "    if os.getenv('FAIRING_RUNTIME', None) is None:\n",
    "        print(\"In NB\")\n",
    "    else:\n",
    "        print(\"In Cluster\") "
   ]
  },
  {
   "cell_type": "code",
   "execution_count": null,
   "id": "07252f85-ce57-4a03-8b05-4172985dec56",
   "metadata": {},
   "outputs": [],
   "source": [
    "DOCKER_REGISTRY = 'www.dolearn.io:30003/kade-kubeflow' # harbor 레지스트리 주소\n",
    "fairing.config.set_builder(\n",
    "    'append',\n",
    "    image_name='fairing-job',\n",
    "    registry=DOCKER_REGISTRY,\n",
    "    base_image='www.dolearn.io:30003/base/fairing-base:0.0.2') # fairing base 이미지\n",
    "\n",
    "fairing.config.set_deployer('job',\n",
    "                            cleanup=False) # job 실행 완료 후 삭제할지 여부를 결정"
   ]
  },
  {
   "cell_type": "code",
   "execution_count": null,
   "id": "a20483a5-7ffa-433a-9617-f8a6b1931c4c",
   "metadata": {},
   "outputs": [],
   "source": [
    "if __name__ == '__main__':\n",
    "    print_by_env()\n",
    "    fairing_run = fairing.config.fn(print_by_env)\n",
    "    fairing_run()"
   ]
  },
  {
   "cell_type": "code",
   "execution_count": null,
   "id": "9ba3b329-3b04-49b0-938f-c7dc2973f6cc",
   "metadata": {},
   "outputs": [],
   "source": []
  }
 ],
 "metadata": {
  "kernelspec": {
   "display_name": "Python 3",
   "language": "python",
   "name": "python3"
  },
  "language_info": {
   "codemirror_mode": {
    "name": "ipython",
    "version": 3
   },
   "file_extension": ".py",
   "mimetype": "text/x-python",
   "name": "python",
   "nbconvert_exporter": "python",
   "pygments_lexer": "ipython3",
   "version": "3.6.9"
  }
 },
 "nbformat": 4,
 "nbformat_minor": 5
}
