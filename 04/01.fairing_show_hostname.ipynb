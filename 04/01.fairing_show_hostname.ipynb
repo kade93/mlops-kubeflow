{
 "cells": [
  {
   "cell_type": "code",
   "execution_count": 1,
   "id": "dc9c3533-1b84-4fe9-95d2-e17882abcfeb",
   "metadata": {},
   "outputs": [],
   "source": [
    "import os\n",
    "\n",
    "def show_hostname():\n",
    "    print(os.environ['HOSTNAME'])\n",
    "    "
   ]
  },
  {
   "cell_type": "code",
   "execution_count": 2,
   "id": "f1d358fc-91a8-4067-a543-d0d66f041c3d",
   "metadata": {},
   "outputs": [
    {
     "name": "stdout",
     "output_type": "stream",
     "text": [
      "kade-0\n"
     ]
    }
   ],
   "source": [
    "show_hostname()"
   ]
  },
  {
   "cell_type": "code",
   "execution_count": 3,
   "id": "60134e70-f358-4ac0-a4d5-557fce899b25",
   "metadata": {},
   "outputs": [
    {
     "name": "stdout",
     "output_type": "stream",
     "text": [
      "kade-0                                            2/2     Running     0          102m\n",
      "tensorboard-kade-9ff8b8d5c-f892w                  2/2     Running     2          38d\n"
     ]
    }
   ],
   "source": [
    "!kubectl get pods | grep kade"
   ]
  },
  {
   "cell_type": "code",
   "execution_count": 4,
   "id": "11acb148-ee85-4765-8c8f-a871198e81bb",
   "metadata": {},
   "outputs": [],
   "source": [
    "from kubeflow import fairing"
   ]
  },
  {
   "cell_type": "code",
   "execution_count": 5,
   "id": "14247974-e49b-4e7f-9f03-b5a6240c46e2",
   "metadata": {},
   "outputs": [],
   "source": [
    "DOCKER_REGISTRY = \"www.dolearn.io:30003/kade-kubeflow\""
   ]
  },
  {
   "cell_type": "code",
   "execution_count": 6,
   "id": "2b4c8313-2725-4972-8267-43b04b41acd1",
   "metadata": {},
   "outputs": [],
   "source": [
    "fairing.config.set_builder(\n",
    "    'append',\n",
    "    image_name='fairing-job',\n",
    "    registry=DOCKER_REGISTRY,\n",
    "    base_image='www.dolearn.io:30003/base/fairing-base:0.0.2')\n",
    "\n",
    "fairing.config.set_deployer('job',\n",
    "                            cleanup=False)\n"
   ]
  },
  {
   "cell_type": "code",
   "execution_count": 7,
   "id": "32e27c67-87dd-4e6d-933d-54c5d4b0cdb3",
   "metadata": {},
   "outputs": [
    {
     "name": "stderr",
     "output_type": "stream",
     "text": [
      "[I 220117 06:39:44 config:134] Using preprocessor: <kubeflow.fairing.preprocessors.function.FunctionPreProcessor object at 0x7fa1791f78d0>\n",
      "[I 220117 06:39:44 config:136] Using builder: <kubeflow.fairing.builders.append.append.AppendBuilder object at 0x7fa19274d898>\n",
      "[I 220117 06:39:44 config:138] Using deployer: <kubeflow.fairing.deployers.job.job.Job object at 0x7fa18925dc88>\n",
      "[W 220117 06:39:44 append:52] Building image using Append builder...\n",
      "[I 220117 06:39:44 base:112] Creating docker context: /tmp/fairing_context_pzma_ftl\n",
      "[W 220117 06:39:44 base:99] /usr/local/lib/python3.6/dist-packages/kubeflow/fairing/__init__.py already exists in Fairing context, skipping...\n",
      "[I 220117 06:39:44 docker_creds_:234] Loading Docker credentials for repository 'www.dolearn.io:30003/base/fairing-base:0.0.2'\n"
     ]
    },
    {
     "name": "stdout",
     "output_type": "stream",
     "text": [
      "local show_hostname()\n",
      "kade-0\n",
      "remote show_hostname()\n",
      "==========================================================\n",
      "Image name :  www.dolearn.io:30003/kade-kubeflow/fairing-job:5663F60F\n",
      "==========================================================\n"
     ]
    },
    {
     "name": "stderr",
     "output_type": "stream",
     "text": [
      "[W 220117 06:39:44 append:56] Image successfully built in 0.4413451892323792s.\n",
      "[W 220117 06:39:44 append:98] Pushing image www.dolearn.io:30003/kade-kubeflow/fairing-job:5663F60F...\n",
      "[I 220117 06:39:44 docker_creds_:234] Loading Docker credentials for repository 'www.dolearn.io:30003/kade-kubeflow/fairing-job:5663F60F'\n",
      "[W 220117 06:39:44 append:85] Uploading www.dolearn.io:30003/kade-kubeflow/fairing-job:5663F60F\n",
      "[I 220117 06:39:44 docker_session_:280] Layer sha256:f22ccc0b8772d8e1bcb40f137b373686bc27427a70c0e41dd22b38016e09e7e0 exists, skipping\n"
     ]
    },
    {
     "name": "stdout",
     "output_type": "stream",
     "text": [
      "==========================================================\n",
      "Image name :  www.dolearn.io:30003/kade-kubeflow/fairing-job:5663F60F\n",
      "==========================================================\n"
     ]
    },
    {
     "name": "stderr",
     "output_type": "stream",
     "text": [
      "[I 220117 06:39:44 docker_session_:280] Layer sha256:191b6069f9932358899ffcc3f45c41a0f5f2731b948236a6553484caaf989794 exists, skipping\n",
      "[I 220117 06:39:44 docker_session_:280] Layer sha256:40c455d0dacc33a87519926f4749deef90e15bca99118d8bf7d8cf78588f7f9b exists, skipping\n",
      "[I 220117 06:39:45 docker_session_:280] Layer sha256:e80c964ece6a3edf0db1cfc72ae0e6f0699fb776bbfcc92b708fbb945b0b9547 exists, skipping\n",
      "[I 220117 06:39:45 docker_session_:280] Layer sha256:9151e6e2942f84adfd723f3117577c80e9bd90fab642b2190a5e501fe01f534a exists, skipping\n",
      "[I 220117 06:39:45 docker_session_:280] Layer sha256:02842a89d653002ea6c32f5573a9cec312ace226dae5eea21bc68782f4e2f627 exists, skipping\n",
      "[I 220117 06:39:45 docker_session_:280] Layer sha256:641afa4edc436e3fd3efd40433f1ad0c55b48af949680cd2359de51e3c439699 exists, skipping\n",
      "[I 220117 06:39:45 docker_session_:280] Layer sha256:29d136a889d232058c476b5637c18cbfca74c586634cbee07fe71fa540c7b211 exists, skipping\n",
      "[I 220117 06:39:45 docker_session_:280] Layer sha256:a4dd3c805ec24b016ac8a3869add24541829736c312b65bd49d3b2af7501f897 exists, skipping\n",
      "[I 220117 06:39:45 docker_session_:280] Layer sha256:063a4ff324e290814ea5bf23d5f8de5cca1a734782c4a187132ab3364b44a985 exists, skipping\n",
      "[I 220117 06:39:45 docker_session_:280] Layer sha256:208b1b1d503e89fb2452c622d99f8a69b643819c098688dd89a4bce51d843f7d exists, skipping\n",
      "[I 220117 06:39:45 docker_session_:280] Layer sha256:3cf8fb62ba5ffb221a2edb2208741346eb4d2d99a174138e4afbb69ce1fd9966 exists, skipping\n",
      "[I 220117 06:39:45 docker_session_:280] Layer sha256:3caed8c8884bf3a0cd5255f42fec14c219153bcdf294c81cb2e0599298c8a8df exists, skipping\n",
      "[I 220117 06:39:45 docker_session_:280] Layer sha256:059a81f5046c5e98470eb728fee9db283ec7566d8566bb4652e5d7bc78089341 exists, skipping\n",
      "[I 220117 06:39:45 docker_session_:280] Layer sha256:8bcf82863cb9582a24dc32cd3ddf560ff2f84df88694be072758159b94b70bd3 exists, skipping\n",
      "[I 220117 06:39:45 docker_session_:280] Layer sha256:e1b8f4d5dcdfb4ac873d37d3a643cba6a55f2b325cfe0115aaba32946e896e0a exists, skipping\n",
      "[I 220117 06:39:45 docker_session_:280] Layer sha256:f571d568b0961b0954a50f361ad842acab3b6e4b21a27430e172a1f0d5aca5db exists, skipping\n",
      "[I 220117 06:39:45 docker_session_:280] Layer sha256:f5098a9bf4490bccac9085b1bf9c54baf3015333c40fb6685889a9785b7388ee exists, skipping\n",
      "[I 220117 06:39:45 docker_session_:280] Layer sha256:7ada0795a7988a0d48120cfe85bc57dba3bdd225474db83b4e5565b4af8dd0a9 exists, skipping\n",
      "[I 220117 06:39:45 docker_session_:280] Layer sha256:4bf23ae646f0b9d8e07bf427c69c82f208bb57a8b297507d9b8b6fa23b725711 exists, skipping\n",
      "[I 220117 06:39:45 docker_session_:280] Layer sha256:7a12503ba844465b2c5aea7ebf60dd5057c7fcece51ea15e5f7f02ed1ae08d12 exists, skipping\n",
      "[I 220117 06:39:45 docker_session_:284] Layer sha256:0e4a4800450e81c8078aca4b4080e680ded0f0eefc443f94be29f4aa3c8945a1 pushed.\n",
      "[I 220117 06:39:45 docker_session_:280] Layer sha256:0269b6883f78a00bb29875d37fe3d838dbbe61cadf0108145fff2be316364f74 exists, skipping\n",
      "[I 220117 06:39:45 docker_session_:334] Finished upload of: www.dolearn.io:30003/kade-kubeflow/fairing-job:5663F60F\n",
      "[W 220117 06:39:45 append:103] Pushed image www.dolearn.io:30003/kade-kubeflow/fairing-job:5663F60F in 1.373664160259068s.\n",
      "[W 220117 06:39:45 job:101] The job fairing-job-xhh9h launched.\n",
      "[W 220117 06:39:46 manager:298] Waiting for fairing-job-xhh9h-vnntj to start...\n",
      "[W 220117 06:39:46 manager:298] Waiting for fairing-job-xhh9h-vnntj to start...\n",
      "[W 220117 06:39:46 manager:298] Waiting for fairing-job-xhh9h-vnntj to start...\n"
     ]
    },
    {
     "name": "stdout",
     "output_type": "stream",
     "text": [
      "===================================\n",
      "Building image www.dolearn.io:30003/kade-kubeflow/fairing-job:5663F60F done.\n",
      "===================================\n"
     ]
    },
    {
     "name": "stderr",
     "output_type": "stream",
     "text": [
      "[W 220117 06:39:47 manager:298] Waiting for fairing-job-xhh9h-vnntj to start...\n",
      "[I 220117 06:39:48 manager:304] Pod started running False\n"
     ]
    },
    {
     "name": "stdout",
     "output_type": "stream",
     "text": [
      "fairing-job-xhh9h-vnntj\n"
     ]
    }
   ],
   "source": [
    "if __name__ == '__main__':\n",
    "    print('local show_hostname()')\n",
    "    show_hostname()\n",
    "    print('remote show_hostname()')\n",
    "    remote_show_hostname = fairing.config.fn(show_hostname)\n",
    "    remote_show_hostname()"
   ]
  },
  {
   "cell_type": "code",
   "execution_count": 8,
   "id": "f3dbb190-1de2-4abe-a485-d536375ed423",
   "metadata": {},
   "outputs": [
    {
     "name": "stdout",
     "output_type": "stream",
     "text": [
      "NAME                                              READY   STATUS      RESTARTS   AGE\n",
      "board-fairing-78bbf94f4f-lt59h                    2/2     Running     6          66d\n",
      "board-fairing-new-675ffbc7f4-bp9jh                2/2     Running     4          58d\n",
      "cifar10-classifier-bentoml-bbb59b5f4-hxfd5        1/1     Running     2          43d\n",
      "cifar10-classifier-bentoml2-cf674959b-2vxnt       1/1     Running     2          43d\n",
      "cifar10-katib-sdk-random-66844885d-96zwz          1/1     Running     2          46d\n",
      "cifar10-katib-yaml-random-769bbc66c-8lpkk         1/1     Running     2          46d\n",
      "fairing-job-vxtvv-f9n7r                           0/1     Completed   0          36m\n",
      "fairing-job-xhh9h-vnntj                           0/1     Completed   0          3s\n",
      "kade-0                                            2/2     Running     0          102m\n",
      "kfp-deploy-7b4669dfd8-5gw8c                       2/2     Running     6          84d\n",
      "ml-pipeline-ui-artifact-6c8c9795cf-dsvrr          2/2     Running     6          84d\n",
      "ml-pipeline-visualizationserver-fd5ccc54d-kvrm7   2/2     Running     6          73d\n",
      "tensorboard-kade-9ff8b8d5c-f892w                  2/2     Running     2          38d\n"
     ]
    }
   ],
   "source": [
    "!kubectl get pods"
   ]
  },
  {
   "cell_type": "code",
   "execution_count": null,
   "id": "f64a4f98-c15b-41ae-aeff-db805953f1d7",
   "metadata": {},
   "outputs": [],
   "source": []
  }
 ],
 "metadata": {
  "kernelspec": {
   "display_name": "Python 3",
   "language": "python",
   "name": "python3"
  },
  "language_info": {
   "codemirror_mode": {
    "name": "ipython",
    "version": 3
   },
   "file_extension": ".py",
   "mimetype": "text/x-python",
   "name": "python",
   "nbconvert_exporter": "python",
   "pygments_lexer": "ipython3",
   "version": "3.6.9"
  }
 },
 "nbformat": 4,
 "nbformat_minor": 5
}
